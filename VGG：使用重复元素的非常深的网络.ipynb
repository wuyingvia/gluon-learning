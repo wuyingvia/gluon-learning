{
 "cells": [
  {
   "cell_type": "code",
   "execution_count": 3,
   "metadata": {},
   "outputs": [],
   "source": [
    "from mxnet.gluon import nn\n",
    "\n",
    "def vgg_block(num_convs,channels):\n",
    "    out=nn.Sequential()\n",
    "    for _ in range(num_convs):\n",
    "        out.add(\n",
    "        nn.Conv2D(channels=channels,kernel_size=3,padding=1,activation='relu')\n",
    "        )\n",
    "        out.add(nn.MaxPool2D(pool_size=2,strides=2))\n",
    "        return out\n",
    "\n",
    "    "
   ]
  },
  {
   "cell_type": "code",
   "execution_count": 8,
   "metadata": {},
   "outputs": [
    {
     "data": {
      "text/plain": [
       "(2, 128, 8, 8)"
      ]
     },
     "execution_count": 8,
     "metadata": {},
     "output_type": "execute_result"
    }
   ],
   "source": [
    "from mxnet import ndarray as nd\n",
    "#test vgg_block\n",
    "blk=vgg_block(2,128)\n",
    "blk.initialize()\n",
    "x=nd.random.uniform(shape=(2,3,16,16))\n",
    "y=blk(x)\n",
    "y.shape\n",
    "#长宽会减半，通道也会改变。"
   ]
  },
  {
   "cell_type": "code",
   "execution_count": 21,
   "metadata": {},
   "outputs": [],
   "source": [
    "#定义如何将这些块堆起来\n",
    "#没有看懂architecture定义的是什么？按道理architecture作用应该是把vgg_stack(num_convs,channels)循环一下下\n",
    "#architecture = ((1,64), (1,128), (2,256), (2,512), (2,512))这个定义的是什么，（卷积层，通道数）？\n",
    "#\n",
    "def vgg_stack(architecture):\n",
    "    out = nn.Sequential()\n",
    "    for (num_convs, channels) in architecture:\n",
    "        out.add(vgg_block(num_convs, channels))\n",
    "    return out\n",
    "            "
   ]
  },
  {
   "cell_type": "code",
   "execution_count": 22,
   "metadata": {},
   "outputs": [],
   "source": [
    "#他这个含义就是把卷积层全部堆积在一个层层里，叫vgg_stack(architecture)\n",
    "#接下来该干嘛就干嘛，接Flatten，接全连接层\n",
    "#VGG 11 8个卷积层，3个全连接层\n",
    "\n",
    "num_outputs = 10\n",
    "architecture = ((1,64), (1,128), (2,256), (2,512), (2,512))\n",
    "net = nn.Sequential()\n",
    "# add name_scope on the outermost Sequential\n",
    "with net.name_scope():\n",
    "    net.add(\n",
    "        vgg_stack(architecture),\n",
    "        nn.Flatten(),\n",
    "        nn.Dense(4096, activation=\"relu\"),\n",
    "        nn.Dropout(.5),\n",
    "        nn.Dense(4096, activation=\"relu\"),\n",
    "        nn.Dropout(.5),\n",
    "        nn.Dense(num_outputs))\n",
    "    "
   ]
  },
  {
   "cell_type": "code",
   "execution_count": 23,
   "metadata": {},
   "outputs": [
    {
     "name": "stdout",
     "output_type": "stream",
     "text": [
      "Start training on  cpu(0)\n",
      "Epoch 0. Loss: 0.762, Train acc 0.71, Test acc 0.84, Time 2992.3 sec\n"
     ]
    }
   ],
   "source": [
    "import sys\n",
    "sys.path.append('..')\n",
    "import utils\n",
    "from mxnet import gluon\n",
    "from mxnet import init\n",
    "\n",
    "train_data,test_data=utils.load_data_fashion_mnist(batch_size=64,resize=96)\n",
    "ctx = utils.try_gpu()\n",
    "net.initialize(ctx=ctx, init=init.Xavier())\n",
    "loss = gluon.loss.SoftmaxCrossEntropyLoss()\n",
    "trainer = gluon.Trainer(net.collect_params(),\n",
    "                        'sgd', {'learning_rate': 0.05})\n",
    "utils.train(train_data, test_data, net, loss,\n",
    "            trainer, ctx, num_epochs=1)"
   ]
  },
  {
   "cell_type": "code",
   "execution_count": null,
   "metadata": {},
   "outputs": [],
   "source": []
  }
 ],
 "metadata": {
  "kernelspec": {
   "display_name": "Python 3",
   "language": "python",
   "name": "python3"
  },
  "language_info": {
   "codemirror_mode": {
    "name": "ipython",
    "version": 3
   },
   "file_extension": ".py",
   "mimetype": "text/x-python",
   "name": "python",
   "nbconvert_exporter": "python",
   "pygments_lexer": "ipython3",
   "version": "3.6.4"
  }
 },
 "nbformat": 4,
 "nbformat_minor": 2
}
