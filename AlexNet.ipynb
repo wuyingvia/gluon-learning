{
 "cells": [
  {
   "cell_type": "code",
   "execution_count": 8,
   "metadata": {},
   "outputs": [],
   "source": [
    "#define function by gluon\n",
    "from mxnet.gluon import nn\n",
    "net=nn.Sequential()\n",
    "with net.name_scope():\n",
    "    net.add(\n",
    "    #first convolutional layer\n",
    "    nn.Conv2D(channels=96,kernel_size=4,strides=4,activation='relu'),\n",
    "    nn.MaxPool2D(pool_size=3,strides=4),\n",
    "    #second convolutional layer\n",
    "    nn.Conv2D(channels=256,kernel_size=4,padding=2,activation='relu'),\n",
    "    nn.MaxPool2D(pool_size=3,strides=2),\n",
    "    #thrid convolutional layer\n",
    "    nn.Conv2D(channels=384,kernel_size=3,padding=1,activation='relu'),\n",
    "    nn.Conv2D(channels=384,kernel_size=3,padding=1,activation='relu'),   \n",
    "    nn.Conv2D(channels=384,kernel_size=3,padding=1,activation='relu'),\n",
    "    nn.MaxPool2D(pool_size=3, strides=2),\n",
    "    #dense layer\n",
    "    nn.Flatten(),\n",
    "    nn.Dense(4096,activation='relu'),\n",
    "    nn.Dropout(.5),\n",
    "        \n",
    "    nn.Dense(4096,activation='relu'),\n",
    "    nn.Dropout(.5),\n",
    "        \n",
    "    nn.Dense(10)    )\n",
    "    \n",
    "        \n",
    "        \n",
    "        \n",
    "\n"
   ]
  },
  {
   "cell_type": "code",
   "execution_count": 9,
   "metadata": {},
   "outputs": [],
   "source": [
    "#read data\n",
    "import sys\n",
    "sys.path.append('..')\n",
    "import utils\n",
    "train_data,test_data=utils.load_data_fashion_mnist(batch_size=256,resize=224)"
   ]
  },
  {
   "cell_type": "code",
   "execution_count": null,
   "metadata": {
    "scrolled": true
   },
   "outputs": [
    {
     "name": "stderr",
     "output_type": "stream",
     "text": [
      "/home/wuying/miniconda3/envs/gluon/lib/python3.6/site-packages/mxnet/gluon/parameter.py:320: UserWarning: Parameter sequential3_conv0_bias is already initialized, ignoring. Set force_reinit=True to re-initialize.\n",
      "  \"Set force_reinit=True to re-initialize.\"%self.name)\n",
      "/home/wuying/miniconda3/envs/gluon/lib/python3.6/site-packages/mxnet/gluon/parameter.py:320: UserWarning: Parameter sequential3_conv1_bias is already initialized, ignoring. Set force_reinit=True to re-initialize.\n",
      "  \"Set force_reinit=True to re-initialize.\"%self.name)\n",
      "/home/wuying/miniconda3/envs/gluon/lib/python3.6/site-packages/mxnet/gluon/parameter.py:320: UserWarning: Parameter sequential3_conv2_bias is already initialized, ignoring. Set force_reinit=True to re-initialize.\n",
      "  \"Set force_reinit=True to re-initialize.\"%self.name)\n",
      "/home/wuying/miniconda3/envs/gluon/lib/python3.6/site-packages/mxnet/gluon/parameter.py:320: UserWarning: Parameter sequential3_conv3_bias is already initialized, ignoring. Set force_reinit=True to re-initialize.\n",
      "  \"Set force_reinit=True to re-initialize.\"%self.name)\n",
      "/home/wuying/miniconda3/envs/gluon/lib/python3.6/site-packages/mxnet/gluon/parameter.py:320: UserWarning: Parameter sequential3_conv4_bias is already initialized, ignoring. Set force_reinit=True to re-initialize.\n",
      "  \"Set force_reinit=True to re-initialize.\"%self.name)\n",
      "/home/wuying/miniconda3/envs/gluon/lib/python3.6/site-packages/mxnet/gluon/parameter.py:320: UserWarning: Parameter sequential3_dense0_bias is already initialized, ignoring. Set force_reinit=True to re-initialize.\n",
      "  \"Set force_reinit=True to re-initialize.\"%self.name)\n",
      "/home/wuying/miniconda3/envs/gluon/lib/python3.6/site-packages/mxnet/gluon/parameter.py:320: UserWarning: Parameter sequential3_dense1_bias is already initialized, ignoring. Set force_reinit=True to re-initialize.\n",
      "  \"Set force_reinit=True to re-initialize.\"%self.name)\n",
      "/home/wuying/miniconda3/envs/gluon/lib/python3.6/site-packages/mxnet/gluon/parameter.py:320: UserWarning: Parameter sequential3_dense2_bias is already initialized, ignoring. Set force_reinit=True to re-initialize.\n",
      "  \"Set force_reinit=True to re-initialize.\"%self.name)\n"
     ]
    },
    {
     "name": "stdout",
     "output_type": "stream",
     "text": [
      "Start training on  cpu(0)\n",
      "Epoch 0. Loss: 2.303, Train acc 0.10, Test acc 0.08, Time 1432.7 sec\n",
      "Epoch 1. Loss: 2.303, Train acc 0.10, Test acc 0.08, Time 1697.4 sec\n",
      "Epoch 2. Loss: 2.303, Train acc 0.10, Test acc 0.08, Time 1610.9 sec\n"
     ]
    }
   ],
   "source": [
    "from mxnet import init\n",
    "from mxnet import gluon\n",
    "#initialize \n",
    "ctx=utils.try_gpu()\n",
    "net.initialize(ctx=ctx,init=init.Xavier())\n",
    "\n",
    "#cost function\n",
    "loss=gluon.loss.SoftmaxCrossEntropyLoss()\n",
    "\n",
    "trainer = gluon.Trainer(net.collect_params(),\n",
    "                        'sgd', {'learning_rate': 0.01})\n",
    "utils.train(train_data, test_data, net, loss,\n",
    "            trainer, ctx, num_epochs=4)\n"
   ]
  },
  {
   "cell_type": "code",
   "execution_count": null,
   "metadata": {},
   "outputs": [],
   "source": []
  }
 ],
 "metadata": {
  "kernelspec": {
   "display_name": "Python 3",
   "language": "python",
   "name": "python3"
  },
  "language_info": {
   "codemirror_mode": {
    "name": "ipython",
    "version": 3
   },
   "file_extension": ".py",
   "mimetype": "text/x-python",
   "name": "python",
   "nbconvert_exporter": "python",
   "pygments_lexer": "ipython3",
   "version": "3.6.4"
  }
 },
 "nbformat": 4,
 "nbformat_minor": 2
}
