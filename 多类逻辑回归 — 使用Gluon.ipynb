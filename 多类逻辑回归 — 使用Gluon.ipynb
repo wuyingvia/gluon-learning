{
 "cells": [
  {
   "cell_type": "code",
   "execution_count": 5,
   "metadata": {},
   "outputs": [],
   "source": [
    "#read data\n",
    "\n",
    "import sys\n",
    "sys.path.append('..')\n",
    "import utils\n",
    "\n",
    "batch_size = 256\n",
    "train_data,test_data=utils.load_data_fashion_mnist(batch_size)\n"
   ]
  },
  {
   "cell_type": "code",
   "execution_count": 6,
   "metadata": {},
   "outputs": [],
   "source": [
    "#initialize parameters\n",
    "from mxnet import gluon\n",
    "\n",
    "net=gluon.nn.Sequential()#我们定义一个空的模型\n",
    "\n",
    "with net.name_scope():\n",
    "    net.add(gluon.nn.Flatten())\n",
    "    net.add(gluon.nn.Dense(10)) #我们加入十個个Dense层，它唯一必须定义的参数就是输出节点的个数\n",
    "\n",
    "net.initialize() #初始化模型权重\n",
    "\n"
   ]
  },
  {
   "cell_type": "code",
   "execution_count": 7,
   "metadata": {},
   "outputs": [],
   "source": [
    "#define softmax function and cross entropy coss function\n",
    "\n",
    "softmax_cross_entropy=gluon.loss.SoftmaxCrossEntropyLoss() #gluon提供一个将这两个函数合起来的数值更稳定的版本\n",
    "\n"
   ]
  },
  {
   "cell_type": "code",
   "execution_count": 10,
   "metadata": {},
   "outputs": [],
   "source": [
    "#optimation\n",
    "\n",
    "\n",
    "trainer = gluon.Trainer(net.collect_params(), 'sgd', {'learning_rate': 0.1})\n",
    "\n"
   ]
  },
  {
   "cell_type": "code",
   "execution_count": 13,
   "metadata": {},
   "outputs": [
    {
     "name": "stdout",
     "output_type": "stream",
     "text": [
      "Epoch 0. Loss: 0.784595, Train acc 0.746378, Test acc 0.799179\n",
      "Epoch 1. Loss: 0.574505, Train acc 0.810981, Test acc 0.820413\n",
      "Epoch 2. Loss: 0.530207, Train acc 0.823134, Test acc 0.828926\n",
      "Epoch 3. Loss: 0.506378, Train acc 0.829778, Test acc 0.835537\n",
      "Epoch 4. Loss: 0.490579, Train acc 0.834318, Test acc 0.830829\n"
     ]
    }
   ],
   "source": [
    "#training\n",
    "\n",
    "\n",
    "from mxnet import ndarray as nd\n",
    "from mxnet import autograd\n",
    "\n",
    "for epoch in range(5):\n",
    "    train_loss=0.\n",
    "    train_acc=0.\n",
    "    for data ,label in train_data:\n",
    "        with autograd.record():\n",
    "            output=net(data)\n",
    "            loss=softmax_cross_entropy(output,label)\n",
    "        loss.backward()\n",
    "        trainer.step(batch_size)\n",
    "        \n",
    "        train_loss+=nd.mean(loss).asscalar()\n",
    "        train_acc += utils.accuracy(output, label)\n",
    "    test_acc=utils.evaluate_accuracy(test_data,net)\n",
    "    \n",
    "    print(\"Epoch %d. Loss: %f, Train acc %f, Test acc %f\" % (\n",
    "        epoch, train_loss/len(train_data), train_acc/len(train_data), test_acc))"
   ]
  },
  {
   "cell_type": "code",
   "execution_count": null,
   "metadata": {},
   "outputs": [],
   "source": []
  }
 ],
 "metadata": {
  "kernelspec": {
   "display_name": "Python 3",
   "language": "python",
   "name": "python3"
  },
  "language_info": {
   "codemirror_mode": {
    "name": "ipython",
    "version": 3
   },
   "file_extension": ".py",
   "mimetype": "text/x-python",
   "name": "python",
   "nbconvert_exporter": "python",
   "pygments_lexer": "ipython3",
   "version": "3.6.3"
  }
 },
 "nbformat": 4,
 "nbformat_minor": 2
}
