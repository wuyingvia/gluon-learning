{
 "cells": [
  {
   "cell_type": "code",
   "execution_count": 54,
   "metadata": {},
   "outputs": [
    {
     "name": "stdout",
     "output_type": "stream",
     "text": [
      "Sequential(\n",
      "  (0): Dense(None -> 256, Activation(relu))\n",
      "  (1): Dense(None -> 10, linear)\n",
      ")\n"
     ]
    }
   ],
   "source": [
    "#创建多层感知机 gluon\n",
    "from mxnet import nd\n",
    "from mxnet.gluon import nn\n",
    "\n",
    "net=nn.Sequential()\n",
    "with net.name_scope():\n",
    "    net.add(nn.Dense(256,activation=\"relu\"))\n",
    "    net.add(nn.Dense(10))\n",
    "print(net)"
   ]
  },
  {
   "cell_type": "code",
   "execution_count": 70,
   "metadata": {},
   "outputs": [],
   "source": [
    "class MLP(nn.Block):\n",
    "    def __init__(self, **kwargs):\n",
    "        super(MLP, self).__init__(**kwargs)\n",
    "        with self.name_scope():\n",
    "            self.dense0 = nn.Dense(256)\n",
    "            self.dense1 = nn.Dense(10)\n",
    "\n",
    "    def forward(self, x):\n",
    "        return self.dense1(nd.relu(self.dense0(x)))"
   ]
  },
  {
   "cell_type": "code",
   "execution_count": 71,
   "metadata": {},
   "outputs": [
    {
     "name": "stdout",
     "output_type": "stream",
     "text": [
      "MLP(\n",
      "  (dense0): Dense(None -> 256, linear)\n",
      "  (dense1): Dense(None -> 10, linear)\n",
      ")\n"
     ]
    },
    {
     "data": {
      "text/plain": [
       "\n",
       "[[ 0.01599331  0.02209063  0.01248272 -0.02095865  0.02979716 -0.06946628\n",
       "   0.04118977  0.01389062  0.01184154 -0.04527701]\n",
       " [-0.02399769  0.073647    0.00263377  0.00225113  0.00204536 -0.0674375\n",
       "   0.04784648  0.02802196  0.04880201 -0.03907078]\n",
       " [-0.02892219  0.04902704 -0.00255     0.01337825 -0.00280327 -0.10357381\n",
       "   0.04161734  0.03533161  0.08501115 -0.03772434]\n",
       " [ 0.01808984  0.04732734 -0.02078294  0.00740154 -0.00326047 -0.09708859\n",
       "   0.03816021  0.00432553  0.00134935 -0.02988878]]\n",
       "<NDArray 4x10 @cpu(0)>"
      ]
     },
     "execution_count": 71,
     "metadata": {},
     "output_type": "execute_result"
    }
   ],
   "source": [
    "\n",
    "net2 = MLP()\n",
    "print(net2)\n",
    "net2.initialize()\n",
    "x = nd.random.uniform(shape=(4,20))\n",
    "y = net2(x)\n",
    "y"
   ]
  },
  {
   "cell_type": "code",
   "execution_count": 75,
   "metadata": {},
   "outputs": [],
   "source": [
    "# using class difine Sequential(顺序)\n",
    "class Sequential(nn.Block):\n",
    "    def __init__(self,**kwargs):\n",
    "        super(Sequential,self).__init__(**kwargs)\n",
    "    def add(self, block):\n",
    "        self._children.append(block)#没有明白这个是什么意思\n",
    "    def forward(self,x):\n",
    "        for block in self._children:\n",
    "            x = block(x)\n",
    "        return x\n",
    "        \n",
    "        "
   ]
  },
  {
   "cell_type": "code",
   "execution_count": 77,
   "metadata": {},
   "outputs": [
    {
     "data": {
      "text/plain": [
       "\n",
       "[[ 0.03776609  0.03380018  0.06707328 -0.09524883 -0.02695445  0.02556845\n",
       "   0.05772297 -0.05677703  0.00282034  0.05922025]\n",
       " [ 0.06853435  0.08247618  0.08034877 -0.07636102 -0.03599111  0.00117045\n",
       "   0.08831719 -0.0301978  -0.02525477  0.07853685]\n",
       " [ 0.07864901  0.08491036  0.0483099  -0.10731368 -0.00750124 -0.01912395\n",
       "   0.10374747 -0.02697803 -0.03590386  0.11448428]\n",
       " [ 0.08836336  0.05076564  0.07970703 -0.08948221 -0.04017068  0.01738222\n",
       "   0.07147183 -0.0474473  -0.00985061  0.07807525]]\n",
       "<NDArray 4x10 @cpu(0)>"
      ]
     },
     "execution_count": 77,
     "metadata": {},
     "output_type": "execute_result"
    }
   ],
   "source": [
    "net4 = Sequential()\n",
    "with net4.name_scope():\n",
    "    net4.add(nn.Dense(256, activation=\"relu\"))\n",
    "    net4.add(nn.Dense(10))\n",
    "\n",
    "net4.initialize()\n",
    "y = net4(x)\n",
    "y"
   ]
  },
  {
   "cell_type": "code",
   "execution_count": 84,
   "metadata": {},
   "outputs": [
    {
     "name": "stdout",
     "output_type": "stream",
     "text": [
      "(4, 256)\n"
     ]
    }
   ],
   "source": [
    "#class FancyMLP\n",
    "class FancyMLP(nn.Block):\n",
    "    def __init__(self,**kwargs):\n",
    "        super(FancyMLP,self).__init__(**kwargs)\n",
    "        with self.name_scope():\n",
    "            self.dense=nn.Dense(256)\n",
    "            self.weight = nd.random_uniform(shape=(256,20))\n",
    "    \n",
    "    def forward(self,x):#这个什么东西？\n",
    "        x = nd.relu(self.dense(x))\n",
    "        x = nd.relu(nd.dot(x, self.weight)+1)\n",
    "        x = nd.relu(self.dense(x))\n",
    "        return x\n",
    "fancy_mlp = FancyMLP()\n",
    "fancy_mlp.initialize()\n",
    "y = fancy_mlp(x)\n",
    "print(y.shape)"
   ]
  },
  {
   "cell_type": "code",
   "execution_count": 86,
   "metadata": {},
   "outputs": [
    {
     "name": "stdout",
     "output_type": "stream",
     "text": [
      "Sequential(\n",
      "  (0): RecMLP(\n",
      "    (net): Sequential(\n",
      "      (0): Dense(None -> 256, Activation(relu))\n",
      "      (1): Dense(None -> 128, Activation(relu))\n",
      "    )\n",
      "    (dense): Dense(None -> 64, linear)\n",
      "  )\n",
      "  (1): Dense(None -> 10, linear)\n",
      ")\n"
     ]
    }
   ],
   "source": [
    "#nn.Block和nn.Sequential的嵌套使用\n",
    "class RecMLP(nn.Block):\n",
    "    def __init__(self, **kwargs):\n",
    "        super(RecMLP, self).__init__(**kwargs)\n",
    "        self.net = nn.Sequential()\n",
    "        with self.name_scope():\n",
    "            self.net.add(nn.Dense(256, activation=\"relu\"))\n",
    "            self.net.add(nn.Dense(128, activation=\"relu\"))\n",
    "            self.dense = nn.Dense(64)\n",
    "\n",
    "    def forward(self, x):\n",
    "        return nd.relu(self.dense(self.net(x)))\n",
    "\n",
    "rec_mlp = nn.Sequential()\n",
    "rec_mlp.add(RecMLP())\n",
    "rec_mlp.add(nn.Dense(10))\n",
    "print(rec_mlp)\n",
    "        "
   ]
  },
  {
   "cell_type": "code",
   "execution_count": null,
   "metadata": {},
   "outputs": [],
   "source": []
  }
 ],
 "metadata": {
  "kernelspec": {
   "display_name": "Python 3",
   "language": "python",
   "name": "python3"
  },
  "language_info": {
   "codemirror_mode": {
    "name": "ipython",
    "version": 3
   },
   "file_extension": ".py",
   "mimetype": "text/x-python",
   "name": "python",
   "nbconvert_exporter": "python",
   "pygments_lexer": "ipython3",
   "version": "3.6.3"
  }
 },
 "nbformat": 4,
 "nbformat_minor": 2
}
