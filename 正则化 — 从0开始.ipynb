{
 "cells": [
  {
   "cell_type": "code",
   "execution_count": 97,
   "metadata": {},
   "outputs": [],
   "source": [
    "from mxnet import ndarray as nd\n",
    "from mxnet import gluon\n",
    "from mxnet import autograd\n",
    "num_inputs=200\n",
    "num_train = 20\n",
    "num_test = 100"
   ]
  },
  {
   "cell_type": "code",
   "execution_count": 98,
   "metadata": {},
   "outputs": [],
   "source": [
    "#define parameter\n",
    "true_w = nd.ones((num_inputs, 1)) * 0.01\n",
    "true_b=0.05\n",
    "\n",
    "def init_params():\n",
    "    w = nd.random_normal(scale=1, shape=(num_inputs, 1))\n",
    "    b = nd.zeros(shape=(1,))\n",
    "    params = [w, b]\n",
    "    for param in params:\n",
    "        param.attach_grad()\n",
    "    return params"
   ]
  },
  {
   "cell_type": "code",
   "execution_count": 99,
   "metadata": {},
   "outputs": [],
   "source": [
    "#define function \n",
    "x=nd.random.normal(shape=(num_train+num_test,num_inputs))\n",
    "#为什么shape=(num_train+num_test,num_inputs)，它是把全部的x放在同一个篮子里，然后train的数集从里面取x[:num_train,:]\n",
    "#剩下的就是train的数集x[num_train:,:]\n",
    "y=nd.dot(x,true_w)\n",
    "y+=0.1*nd.random.normal(shape=y.shape)\n",
    "\n",
    "x_train,x_test=x[:num_train,:],x[num_train:,:]\n",
    "y_train,y_test=x[:num_train,:],y[num_train:,:]\n",
    "\n"
   ]
  },
  {
   "cell_type": "code",
   "execution_count": 100,
   "metadata": {},
   "outputs": [],
   "source": [
    "#iteration\n",
    "import random\n",
    "batch_size=10\n",
    "def data_iter(num_examples):\n",
    "    idx=list(range(num_examples))\n",
    "    random.shuffle(idx)\n",
    "    for i in range(0,num_examples,batch_size):\n",
    "        j=nd.array(idx[i:min(i+batch_size,num_examples)])\n",
    "        yield x.take(j),y.take(j)\n"
   ]
  },
  {
   "cell_type": "code",
   "execution_count": 101,
   "metadata": {},
   "outputs": [],
   "source": [
    "#define l2 norm\n",
    "def l2_penalty(w,b):\n",
    "    return ((w**2).sum() + b**2) / 2\n",
    "\n"
   ]
  },
  {
   "cell_type": "code",
   "execution_count": 102,
   "metadata": {},
   "outputs": [],
   "source": [
    "# define cost function and sgd and entropy_cross cost funtcion\n",
    "def net(x,w,b):\n",
    "    return nd.dot(x,w)+b\n",
    "\n",
    "def SGD(params,batch_size,lr):\n",
    "    for param in params: \n",
    "        param[:] = param - lr * param.grad / batch_size\n",
    "        \n",
    "def square_loss(yhat, y):\n",
    "    return (yhat - y.reshape(yhat.shape)) ** 2 / 2 #为什么要除以2？\n",
    "\n",
    "def test(net, params, x, y): \n",
    "    return square_loss(net(x, *params), y).mean().asscalar()\n",
    "\n",
    "\n",
    "    "
   ]
  },
  {
   "cell_type": "code",
   "execution_count": 103,
   "metadata": {},
   "outputs": [],
   "source": [
    "%matplotlib inline\n",
    "import matplotlib as mpl\n",
    "mpl.rcParams['figure.dpi']= 120\n",
    "import matplotlib.pyplot as plt\n",
    "import numpy as np\n",
    "\n",
    "\n",
    "#define function \n",
    "def train(lambd):\n",
    "    epochs = 100\n",
    "    learning_rate = 0.05\n",
    "    w, b = params = init_params() #这个为什么这样子编写？什么意思？\n",
    "    train_loss = []\n",
    "    test_loss = []\n",
    "    for e in range(epochs):\n",
    "        for data,label in data_iter(num_train):\n",
    "            with autograd.record():\n",
    "                output=net(data,*params)#为啥要加一个*params？主要用于函数定义\n",
    "                #这里的不定的意思是：预先并不知道, 函数使用者会传递多少个参数给你, 所以在这个场景下使用这两个关键字？\n",
    "                loss=square_loss(output, label) + lambd * L2_penalty(*params)\n",
    "            loss.backward()\n",
    "            SGD(params,learning_rate,batch_size)\n",
    "            \n",
    "        train_loss.append(test(net, params, x_train, y_train))\n",
    "        #test for what？什么意思这个？\n",
    "        #在前面有定义test\n",
    "        test_loss.append(test(net, params, x_test, y_test))\n",
    "        \n",
    "        plt.plot(train_loss)\n",
    "        plt.plot(test_loss)\n",
    "        plt.legend(['train', 'test'])\n",
    "        plt.show()\n",
    "        return 'learned w[:10]:', w[:10].T, 'learned b:', b\n",
    "                \n",
    "  \n",
    "    "
   ]
  },
  {
   "cell_type": "code",
   "execution_count": 104,
   "metadata": {},
   "outputs": [
    {
     "data": {
      "image/png": "[encoded data removed]",
      "text/plain": [
       "<matplotlib.figure.Figure at 0x7f64d9a8b940>"
      ]
     },
     "metadata": {},
     "output_type": "display_data"
    },
    {
     "data": {
      "text/plain": [
       "('learned w[:10]:', \n",
       " [[  1.04123168e+08   3.58750240e+07   7.73556880e+07  -3.78494960e+07\n",
       "     7.84975040e+07  -3.09249580e+07   8.50239920e+07  -9.39013062e+05\n",
       "     6.95040560e+07   4.71972400e+07]]\n",
       " <NDArray 1x10 @cpu(0)>, 'learned b:', \n",
       " [-28475680.]\n",
       " <NDArray 1 @cpu(0)>)"
      ]
     },
     "execution_count": 104,
     "metadata": {},
     "output_type": "execute_result"
    }
   ],
   "source": [
    "train(0)"
   ]
  },
  {
   "cell_type": "code",
   "execution_count": 105,
   "metadata": {},
   "outputs": [
    {
     "data": {
      "image/png": "[encoded data removed]",
      "text/plain": [
       "<matplotlib.figure.Figure at 0x7f64dd568860>"
      ]
     },
     "metadata": {},
     "output_type": "display_data"
    },
    {
     "data": {
      "text/plain": [
       "('learned w[:10]:', \n",
       " [[ -1.74307744e+08   9.97045040e+07   1.79442896e+08  -1.38575408e+08\n",
       "    -1.50902064e+08  -4.71885216e+08   3.21139488e+08   6.94212240e+07\n",
       "    -2.47377376e+08   6.27760320e+07]]\n",
       " <NDArray 1x10 @cpu(0)>, 'learned b:', \n",
       " [  1.23873736e+08]\n",
       " <NDArray 1 @cpu(0)>)"
      ]
     },
     "execution_count": 105,
     "metadata": {},
     "output_type": "execute_result"
    }
   ],
   "source": [
    "train(5)"
   ]
  },
  {
   "cell_type": "code",
   "execution_count": null,
   "metadata": {},
   "outputs": [],
   "source": []
  },
  {
   "cell_type": "code",
   "execution_count": null,
   "metadata": {},
   "outputs": [],
   "source": []
  }
 ],
 "metadata": {
  "kernelspec": {
   "display_name": "Python 3",
   "language": "python",
   "name": "python3"
  },
  "language_info": {
   "codemirror_mode": {
    "name": "ipython",
    "version": 3
   },
   "file_extension": ".py",
   "mimetype": "text/x-python",
   "name": "python",
   "nbconvert_exporter": "python",
   "pygments_lexer": "ipython3",
   "version": "3.6.3"
  }
 },
 "nbformat": 4,
 "nbformat_minor": 2
}
