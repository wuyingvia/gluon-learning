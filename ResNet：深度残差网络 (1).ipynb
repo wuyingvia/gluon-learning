{
 "cells": [
  {
   "cell_type": "code",
   "execution_count": 27,
   "metadata": {},
   "outputs": [],
   "source": [
    "#def resnet block\n",
    "from mxnet.gluon import nn\n",
    "from mxnet import nd\n",
    "\n",
    "class Residual(nn.Block):\n",
    "    def __init__(self, channels, same_shape=True, **kwargs):\n",
    "        super(Residual, self).__init__(**kwargs)\n",
    "        self.same_shape = same_shape\n",
    "        strides = 1 if same_shape else 2\n",
    "        self.conv1 = nn.Conv2D(channels, kernel_size=3, padding=1,\n",
    "                              strides=strides)\n",
    "        self.bn1 = nn.BatchNorm()\n",
    "        self.conv2 = nn.Conv2D(channels, kernel_size=3, padding=1)\n",
    "        self.bn2 = nn.BatchNorm()\n",
    "        if not same_shape:\n",
    "            self.conv3 = nn.Conv2D(channels, kernel_size=1,\n",
    "                                  strides=strides)\n",
    "\n",
    "    def forward(self, x):\n",
    "        out = nd.relu(self.bn1(self.conv1(x)))\n",
    "        out = self.bn2(self.conv2(out))\n",
    "        if not self.same_shape:\n",
    "            x = self.conv3(x)\n",
    "        return nd.relu(out + x)"
   ]
  },
  {
   "cell_type": "code",
   "execution_count": 32,
   "metadata": {},
   "outputs": [],
   "source": [
    "#类似GoogLeNet主体是由Inception块串联而成，ResNet的主体部分串联多个Residual块。\n",
    "#def resnet architecture\n",
    "class ResNet(nn.Block):\n",
    "    def __init__(self, num_classes, verbose=False, **kwargs):\n",
    "        super(ResNet, self).__init__(**kwargs)\n",
    "        self.verbose = verbose\n",
    "        # add name_scope on the outermost Sequential\n",
    "        with self.name_scope():\n",
    "            # block 1\n",
    "            b1 = nn.Conv2D(64, kernel_size=7, strides=2)\n",
    "            # block 2\n",
    "            b2 = nn.Sequential()\n",
    "            b2.add(\n",
    "                nn.MaxPool2D(pool_size=3, strides=2),\n",
    "                Residual(64),\n",
    "                Residual(64)\n",
    "            )\n",
    "            # block 3\n",
    "            b3 = nn.Sequential()\n",
    "            b3.add(\n",
    "                Residual(128, same_shape=False),\n",
    "                Residual(128)\n",
    "            )\n",
    "            # block 4\n",
    "            b4 = nn.Sequential()\n",
    "            b4.add(\n",
    "                Residual(256, same_shape=False),\n",
    "                Residual(256)\n",
    "            )\n",
    "            # block 5\n",
    "            b5 = nn.Sequential()\n",
    "            b5.add(\n",
    "                Residual(512, same_shape=False),\n",
    "                Residual(512)\n",
    "            )\n",
    "            # block 6\n",
    "            b6 = nn.Sequential()\n",
    "            b6.add(\n",
    "                nn.AvgPool2D(pool_size=3),\n",
    "                nn.Dense(num_classes)\n",
    "            )\n",
    "            # chain all blocks together\n",
    "            self.net = nn.Sequential()\n",
    "            self.net.add(b1, b2, b3, b4, b5, b6)\n",
    "\n",
    "    def forward(self, x):\n",
    "        out = x\n",
    "        for i, b in enumerate(self.net):\n",
    "            out = b(out)\n",
    "            if self.verbose:\n",
    "                print('Block %d output: %s'%(i+1, out.shape))\n",
    "        return out"
   ]
  },
  {
   "cell_type": "code",
   "execution_count": 35,
   "metadata": {},
   "outputs": [
    {
     "name": "stdout",
     "output_type": "stream",
     "text": [
      "Start training on  cpu(0)\n",
      "Epoch 0. Loss: 0.430, Train acc 0.85, Test acc 0.88, Time 2812.8 sec\n"
     ]
    }
   ],
   "source": [
    "#train\n",
    "import sys\n",
    "sys.path.append('..')\n",
    "import utils\n",
    "from mxnet import gluon\n",
    "from mxnet import init\n",
    "\n",
    "train_data, test_data = utils.load_data_fashion_mnist(\n",
    "    batch_size=64, resize=96)\n",
    "\n",
    "ctx = utils.try_gpu()\n",
    "net = ResNet(10)\n",
    "net.initialize(ctx=ctx, init=init.Xavier())\n",
    "\n",
    "loss = gluon.loss.SoftmaxCrossEntropyLoss()\n",
    "trainer = gluon.Trainer(net.collect_params(),\n",
    "                        'sgd', {'learning_rate': 0.05})\n",
    "utils.train(train_data, test_data, net, loss,\n",
    "            trainer, ctx, num_epochs=1)"
   ]
  },
  {
   "cell_type": "code",
   "execution_count": null,
   "metadata": {},
   "outputs": [],
   "source": []
  },
  {
   "cell_type": "code",
   "execution_count": null,
   "metadata": {},
   "outputs": [],
   "source": []
  }
 ],
 "metadata": {
  "kernelspec": {
   "display_name": "Python 3",
   "language": "python",
   "name": "python3"
  },
  "language_info": {
   "codemirror_mode": {
    "name": "ipython",
    "version": 3
   },
   "file_extension": ".py",
   "mimetype": "text/x-python",
   "name": "python",
   "nbconvert_exporter": "python",
   "pygments_lexer": "ipython3",
   "version": "3.6.4"
  }
 },
 "nbformat": 4,
 "nbformat_minor": 2
}
