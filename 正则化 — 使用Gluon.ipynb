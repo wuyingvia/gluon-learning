{
 "cells": [
  {
   "cell_type": "code",
   "execution_count": 24,
   "metadata": {},
   "outputs": [],
   "source": [
    "import mxnet as mx\n",
    "from mxnet import ndarray as nd\n",
    "from mxnet import gluon\n",
    "from mxnet import autograd\n",
    "import sys\n",
    "sys.path.append(\"..\")\n",
    "import utils\n",
    "import matplotlib.pyplot as plt\n",
    "num_inputs=200\n",
    "num_train = 20\n",
    "num_test = 100"
   ]
  },
  {
   "cell_type": "code",
   "execution_count": 25,
   "metadata": {},
   "outputs": [],
   "source": [
    "#read data\n",
    "true_w = nd.ones((num_inputs, 1)) * 0.01\n",
    "true_b = 0.05\n",
    "batch_size=5\n",
    "\n",
    "X=nd.random.normal(shape=(num_train+num_test,num_inputs))\n",
    "y = nd.dot(X, true_w)\n",
    "y += .01 * nd.random.normal(shape=y.shape)\n",
    "\n",
    "\n",
    "X_train,X_test=X[:num_train,:],X[num_train:,:]\n",
    "y_train,y_test=y[:num_train,:],y[num_train:,:]\n",
    "\n",
    "dataset_train=gluon.data.ArrayDataset(X_train, y_train)\n",
    "data_iter_train=gluon.data.DataLoader(dataset_train, batch_size, shuffle=True)"
   ]
  },
  {
   "cell_type": "code",
   "execution_count": 26,
   "metadata": {},
   "outputs": [],
   "source": [
    "#intialization parameters\n",
    "def init_params():\n",
    "    w=nd.random_normal(scale=1,shape=(num_inputs,1))\n",
    "    b=nd.zeros(shape=(1,))\n",
    "    params=[w,b]\n",
    "    for param in params:\n",
    "        param.attach_grad()\n",
    "    return params"
   ]
  },
  {
   "cell_type": "code",
   "execution_count": 27,
   "metadata": {},
   "outputs": [],
   "source": [
    "# define cost function\n",
    "square_loss = gluon.loss.L2Loss()"
   ]
  },
  {
   "cell_type": "code",
   "execution_count": 32,
   "metadata": {},
   "outputs": [],
   "source": [
    "#define net function\n",
    "def test(net, X, y):\n",
    "    return square_loss(net(X), y).mean().asscalar()\n",
    "\n",
    "def train(weight_decay):\n",
    "    epochs = 10\n",
    "    learning_rate = 0.005\n",
    "    net = gluon.nn.Sequential()\n",
    "    with net.name_scope():\n",
    "        net.add(gluon.nn.Dense(1))\n",
    "    net.collect_params().initialize(mx.init.Normal(sigma=1))\n",
    "\n",
    "    trainer=gluon.Trainer(net.collect_params(),'sgd',{'learning_rate':learning_rate,\"wd\":weight_decay})    \n",
    "#training\n",
    "    train_loss=[]\n",
    "    test_loss=[]\n",
    "    for e in range(epochs):\n",
    "        for data,label in data_iter_train:\n",
    "            with autograd.record():\n",
    "                output=net(data)\n",
    "                loss=square_loss(output, label)\n",
    "            loss.backward()\n",
    "            trainer.step(batch_size)\n",
    "        train_loss.append(test(net,X_train,y_train))\n",
    "        test_loss.append(test(net,X_test,y_test))\n",
    "    plt.plot(train_loss)\n",
    "    plt.plot(test_loss)\n",
    "    plt.legend(['train','test'])\n",
    "    plt.show()\n",
    "    \n",
    "    return ('learned w[:10]:', net[0].weight.data()[:,:10],\n",
    "            'learned b:', net[0].bias.data())\n",
    "    \n",
    "        \n",
    "        \n",
    "    \n",
    "   \n",
    "    "
   ]
  },
  {
   "cell_type": "code",
   "execution_count": 33,
   "metadata": {},
   "outputs": [
    {
     "data": {
      "image/png": "[encoded data removed]",
      "text/plain": [
       "<matplotlib.figure.Figure at 0x7f58e466b0f0>"
      ]
     },
     "metadata": {},
     "output_type": "display_data"
    },
    {
     "data": {
      "text/plain": [
       "('learned w[:10]:', \n",
       " [[-0.07819321 -0.18366896 -0.01929988 -0.35402918  0.14829843  0.5242244\n",
       "   -0.00637099 -0.16559738 -0.25381443  0.8050195 ]]\n",
       " <NDArray 1x10 @cpu(0)>, 'learned b:', \n",
       " [ 0.01560239]\n",
       " <NDArray 1 @cpu(0)>)"
      ]
     },
     "execution_count": 33,
     "metadata": {},
     "output_type": "execute_result"
    }
   ],
   "source": [
    "train(5)"
   ]
  },
  {
   "cell_type": "code",
   "execution_count": null,
   "metadata": {},
   "outputs": [],
   "source": []
  }
 ],
 "metadata": {
  "kernelspec": {
   "display_name": "Python 3",
   "language": "python",
   "name": "python3"
  },
  "language_info": {
   "codemirror_mode": {
    "name": "ipython",
    "version": 3
   },
   "file_extension": ".py",
   "mimetype": "text/x-python",
   "name": "python",
   "nbconvert_exporter": "python",
   "pygments_lexer": "ipython3",
   "version": "3.6.3"
  }
 },
 "nbformat": 4,
 "nbformat_minor": 2
}
