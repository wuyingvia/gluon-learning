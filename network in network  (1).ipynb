{
 "cells": [
  {
   "cell_type": "code",
   "execution_count": 1,
   "metadata": {},
   "outputs": [],
   "source": [
    "#define main function block\n",
    "from mxnet.gluon import nn\n",
    "\n",
    "def mlpconv(channels,kernel_size,padding,strides,max_pooling=True):\n",
    "    out=nn.Sequential()\n",
    "    out.add(\n",
    "        nn.Conv2D(channels=channels,kernel_size=kernel_size,strides=strides,padding=padding,activation='relu'),\n",
    "        nn.Conv2D(channels=1,kernel_size=1,strides=1,padding=0,activation='relu'),\n",
    "        nn.Conv2D(channels=1,kernel_size=1,strides=1,padding=0,activation='relu'))\n",
    "    if max_pooling:#为什么会有maxpooling？\n",
    "        out.add(nn.MaxPool2D(pool_size=3, strides=2))\n",
    "    return out\n",
    "\n",
    "\n",
    "#batch x channel x height x width"
   ]
  },
  {
   "cell_type": "code",
   "execution_count": 2,
   "metadata": {},
   "outputs": [],
   "source": [
    "net=nn.Sequential()\n",
    "#kernel1: 11×11, channels: 96\n",
    "#kernel2: 5×5, channels: 256\n",
    "#kernel3: 3×3, channels: 384\n",
    "\n",
    "with net.name_scope():\n",
    "    net.add(\n",
    "        mlpconv(96,11,0,strides=4),\n",
    "        mlpconv(256,5,2,strides=1),#padding数怎么确定？\n",
    "        mlpconv(384,3,1,strides=1),#padding数怎么确定？\n",
    "        nn.Dropout(0.5),\n",
    "        #最后输出10类，所以是10个通道\n",
    "        mlpconv(10, 3, 1,strides=1, max_pooling=False),\n",
    "        nn.AvgPool2D(pool_size=5),\n",
    "        nn.Flatten()\n",
    "    )"
   ]
  },
  {
   "cell_type": "code",
   "execution_count": 4,
   "metadata": {
    "scrolled": true
   },
   "outputs": [
    {
     "name": "stdout",
     "output_type": "stream",
     "text": [
      "Start training on  cpu(0)\n",
      "Epoch 0. Loss: 0.000, Train acc 0.10, Test acc 0.10, Time 724.1 sec\n"
     ]
    }
   ],
   "source": [
    "#train data\n",
    "from mxnet import gluon\n",
    "import sys\n",
    "sys.path.append('/home/wuying/gluon-tutorials-zh')\n",
    "import utils\n",
    "from mxnet import init\n",
    "\n",
    "train_data,test_data=utils.load_data_fashion_mnist(\n",
    "batch_size=64,resize=224)\n",
    "\n",
    "ctx=utils.try_gpu()\n",
    "net.initialize(ctx=ctx,init=init.Xavier())#使用Xavier来初始化参数\n",
    "\n",
    "loss=gluon.loss.SoftmaxCrossEntropyLoss()\n",
    "trainer=gluon.Trainer(net.collect_params(),'sgd',{'learning_rate':0.1})\n",
    "\n",
    "utils.train(train_data,test_data,net,loss,trainer,ctx,num_epochs=1)\n"
   ]
  },
  {
   "cell_type": "code",
   "execution_count": null,
   "metadata": {},
   "outputs": [],
   "source": []
  },
  {
   "cell_type": "code",
   "execution_count": null,
   "metadata": {},
   "outputs": [],
   "source": []
  }
 ],
 "metadata": {
  "kernelspec": {
   "display_name": "Python 3",
   "language": "python",
   "name": "python3"
  },
  "language_info": {
   "codemirror_mode": {
    "name": "ipython",
    "version": 3
   },
   "file_extension": ".py",
   "mimetype": "text/x-python",
   "name": "python",
   "nbconvert_exporter": "python",
   "pygments_lexer": "ipython3",
   "version": "3.6.4"
  }
 },
 "nbformat": 4,
 "nbformat_minor": 2
}
