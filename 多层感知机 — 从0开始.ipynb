{
 "cells": [
  {
   "cell_type": "code",
   "execution_count": 1,
   "metadata": {},
   "outputs": [],
   "source": [
    "#read data\n",
    "import sys #sys 模块包含了与 Python 解释器和它的环境有关的函数。\n",
    "sys.path.append('..') #sys.path 包含输入模块的目录名列表\n",
    "import utils\n",
    "\n",
    "batch_size=256\n",
    "train_data, test_data = utils.load_data_fashion_mnist(batch_size)"
   ]
  },
  {
   "cell_type": "code",
   "execution_count": 3,
   "metadata": {},
   "outputs": [],
   "source": [
    "#initicalize parameters\n",
    "from mxnet import ndarray as nd\n",
    "num_inputs=28*28\n",
    "num_outputs=10\n",
    "\n",
    "num_hidden=256\n",
    "weight_scale = .01\n",
    "\n",
    "w1=nd.random_normal(shape=(num_inputs,num_hidden),scale=weight_scale)\n",
    "b1=nd.zeros(num_hidden)\n",
    "\n",
    "w2=nd.random_normal(shape=(num_hidden, num_outputs),scale=weight_scale)\n",
    "b2=nd.zeros(num_outputs)\n",
    "\n",
    "params = [w1, b1, w2, b2]\n",
    "\n",
    "for param in params:\n",
    "    param.attach_grad()\n",
    "\n"
   ]
  },
  {
   "cell_type": "code",
   "execution_count": 4,
   "metadata": {},
   "outputs": [],
   "source": [
    "#define relu\n",
    "def relu(X):\n",
    "    return nd.maximum(X,0)\n"
   ]
  },
  {
   "cell_type": "code",
   "execution_count": 5,
   "metadata": {},
   "outputs": [],
   "source": [
    "#define function 我们的模型就是将层（全连接）和激活函数（Relu）串起来：\n",
    "def net(X):\n",
    "    X = X.reshape((-1, num_inputs))\n",
    "    h1=relu(nd.dot(X,w1)+b1)\n",
    "    output=nd.dot(h1,w2)+b2\n",
    "    return output\n"
   ]
  },
  {
   "cell_type": "code",
   "execution_count": 9,
   "metadata": {},
   "outputs": [],
   "source": [
    "#define softmax function and cross entropy cost function  we use gluon \n",
    "from mxnet import gluon\n",
    "softmax_cross_entropy = gluon.loss.SoftmaxCrossEntropyLoss()\n"
   ]
  },
  {
   "cell_type": "code",
   "execution_count": 11,
   "metadata": {},
   "outputs": [
    {
     "name": "stdout",
     "output_type": "stream",
     "text": [
      "Epoch 0. Loss: 0.500754, Train acc 0.814002, Test acc 0.809796\n",
      "Epoch 1. Loss: 0.431778, Train acc 0.839777, Test acc 0.853966\n",
      "Epoch 2. Loss: 0.398572, Train acc 0.854284, Test acc 0.861679\n",
      "Epoch 3. Loss: 0.373248, Train acc 0.863114, Test acc 0.866887\n",
      "Epoch 4. Loss: 0.356938, Train acc 0.868506, Test acc 0.854768\n"
     ]
    }
   ],
   "source": [
    "#training data\n",
    "from mxnet import autograd\n",
    "learning_rate = .5\n",
    "\n",
    "for epoch in range(5):\n",
    "    train_acc=0.\n",
    "    train_loss=0.\n",
    "    for data, label in train_data:\n",
    "        with autograd.record():\n",
    "            output=net(data)\n",
    "            loss=softmax_cross_entropy(output,label)\n",
    "        loss.backward()\n",
    "        utils.SGD(params, learning_rate/batch_size)\n",
    "        \n",
    "        train_loss += nd.mean(loss).asscalar()\n",
    "        train_acc += utils.accuracy(output, label)\n",
    "        \n",
    "       \n",
    "    test_acc = utils.evaluate_accuracy(test_data, net) \n",
    "    print(\"Epoch %d. Loss: %f, Train acc %f, Test acc %f\" % (\n",
    "        epoch, train_loss/len(train_data),\n",
    "        train_acc/len(train_data), test_acc))\n",
    "        \n",
    "        \n"
   ]
  },
  {
   "cell_type": "code",
   "execution_count": null,
   "metadata": {},
   "outputs": [],
   "source": []
  }
 ],
 "metadata": {
  "kernelspec": {
   "display_name": "Python 3",
   "language": "python",
   "name": "python3"
  },
  "language_info": {
   "codemirror_mode": {
    "name": "ipython",
    "version": 3
   },
   "file_extension": ".py",
   "mimetype": "text/x-python",
   "name": "python",
   "nbconvert_exporter": "python",
   "pygments_lexer": "ipython3",
   "version": "3.6.3"
  }
 },
 "nbformat": 4,
 "nbformat_minor": 2
}
