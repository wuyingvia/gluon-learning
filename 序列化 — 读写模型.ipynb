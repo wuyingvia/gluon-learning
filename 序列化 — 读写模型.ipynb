{
 "cells": [
  {
   "cell_type": "code",
   "execution_count": 48,
   "metadata": {},
   "outputs": [
    {
     "ename": "MXNetError",
     "evalue": "[19:16:57] src/io/local_filesys.cc:166: Check failed: allow_null  LocalFileSystem: fail to open \"../data/test1.params\"\n\nStack trace returned 10 entries:\n[bt] (0) /home/wuying/miniconda3/envs/gluon/lib/python3.6/site-packages/mxnet/libmxnet.so(+0x193fe2) [0x7fafde657fe2]\n[bt] (1) /home/wuying/miniconda3/envs/gluon/lib/python3.6/site-packages/mxnet/libmxnet.so(+0x28abf40) [0x7fafe0d6ff40]\n[bt] (2) /home/wuying/miniconda3/envs/gluon/lib/python3.6/site-packages/mxnet/libmxnet.so(+0x28a27ca) [0x7fafe0d667ca]\n[bt] (3) /home/wuying/miniconda3/envs/gluon/lib/python3.6/site-packages/mxnet/libmxnet.so(MXNDArraySave+0x5a3) [0x7fafe07dedb3]\n[bt] (4) /home/wuying/miniconda3/envs/gluon/lib/python3.6/lib-dynload/../../libffi.so.6(ffi_call_unix64+0x4c) [0x7fb017327ec0]\n[bt] (5) /home/wuying/miniconda3/envs/gluon/lib/python3.6/lib-dynload/../../libffi.so.6(ffi_call+0x22d) [0x7fb01732787d]\n[bt] (6) /home/wuying/miniconda3/envs/gluon/lib/python3.6/lib-dynload/_ctypes.cpython-36m-x86_64-linux-gnu.so(_ctypes_callproc+0x2ce) [0x7fb01753cdee]\n[bt] (7) /home/wuying/miniconda3/envs/gluon/lib/python3.6/lib-dynload/_ctypes.cpython-36m-x86_64-linux-gnu.so(+0x12825) [0x7fb01753d825]\n[bt] (8) /home/wuying/miniconda3/envs/gluon/bin/python(_PyObject_FastCallDict+0x8b) [0x556065e5bd0b]\n[bt] (9) /home/wuying/miniconda3/envs/gluon/bin/python(+0x1a54ee) [0x556065ef54ee]\n\n",
     "output_type": "error",
     "traceback": [
      "\u001b[0;31m---------------------------------------------------------------------------\u001b[0m",
      "\u001b[0;31mMXNetError\u001b[0m                                Traceback (most recent call last)",
      "\u001b[0;32m<ipython-input-48-9c497d6deb18>\u001b[0m in \u001b[0;36m<module>\u001b[0;34m()\u001b[0m\n\u001b[1;32m      4\u001b[0m \u001b[0my\u001b[0m\u001b[0;34m=\u001b[0m\u001b[0mnd\u001b[0m\u001b[0;34m.\u001b[0m\u001b[0mzeros\u001b[0m\u001b[0;34m(\u001b[0m\u001b[0;36m4\u001b[0m\u001b[0;34m)\u001b[0m\u001b[0;34m\u001b[0m\u001b[0m\n\u001b[1;32m      5\u001b[0m \u001b[0mfilename\u001b[0m \u001b[0;34m=\u001b[0m \u001b[0;34m\"../data/test1.params\"\u001b[0m\u001b[0;34m\u001b[0m\u001b[0m\n\u001b[0;32m----> 6\u001b[0;31m \u001b[0mnd\u001b[0m\u001b[0;34m.\u001b[0m\u001b[0msave\u001b[0m\u001b[0;34m(\u001b[0m\u001b[0mfilename\u001b[0m\u001b[0;34m,\u001b[0m\u001b[0;34m[\u001b[0m\u001b[0mx\u001b[0m\u001b[0;34m,\u001b[0m\u001b[0my\u001b[0m\u001b[0;34m]\u001b[0m\u001b[0;34m)\u001b[0m\u001b[0;34m\u001b[0m\u001b[0m\n\u001b[0m",
      "\u001b[0;32m~/miniconda3/envs/gluon/lib/python3.6/site-packages/mxnet/ndarray/utils.py\u001b[0m in \u001b[0;36msave\u001b[0;34m(fname, data)\u001b[0m\n\u001b[1;32m    234\u001b[0m                                   \u001b[0mmx_uint\u001b[0m\u001b[0;34m(\u001b[0m\u001b[0mlen\u001b[0m\u001b[0;34m(\u001b[0m\u001b[0mhandles\u001b[0m\u001b[0;34m)\u001b[0m\u001b[0;34m)\u001b[0m\u001b[0;34m,\u001b[0m\u001b[0;34m\u001b[0m\u001b[0m\n\u001b[1;32m    235\u001b[0m                                   \u001b[0mhandles\u001b[0m\u001b[0;34m,\u001b[0m\u001b[0;34m\u001b[0m\u001b[0m\n\u001b[0;32m--> 236\u001b[0;31m                                   keys))\n\u001b[0m",
      "\u001b[0;32m~/miniconda3/envs/gluon/lib/python3.6/site-packages/mxnet/base.py\u001b[0m in \u001b[0;36mcheck_call\u001b[0;34m(ret)\u001b[0m\n\u001b[1;32m    144\u001b[0m     \"\"\"\n\u001b[1;32m    145\u001b[0m     \u001b[0;32mif\u001b[0m \u001b[0mret\u001b[0m \u001b[0;34m!=\u001b[0m \u001b[0;36m0\u001b[0m\u001b[0;34m:\u001b[0m\u001b[0;34m\u001b[0m\u001b[0m\n\u001b[0;32m--> 146\u001b[0;31m         \u001b[0;32mraise\u001b[0m \u001b[0mMXNetError\u001b[0m\u001b[0;34m(\u001b[0m\u001b[0mpy_str\u001b[0m\u001b[0;34m(\u001b[0m\u001b[0m_LIB\u001b[0m\u001b[0;34m.\u001b[0m\u001b[0mMXGetLastError\u001b[0m\u001b[0;34m(\u001b[0m\u001b[0;34m)\u001b[0m\u001b[0;34m)\u001b[0m\u001b[0;34m)\u001b[0m\u001b[0;34m\u001b[0m\u001b[0m\n\u001b[0m\u001b[1;32m    147\u001b[0m \u001b[0;34m\u001b[0m\u001b[0m\n\u001b[1;32m    148\u001b[0m \u001b[0;34m\u001b[0m\u001b[0m\n",
      "\u001b[0;31mMXNetError\u001b[0m: [19:16:57] src/io/local_filesys.cc:166: Check failed: allow_null  LocalFileSystem: fail to open \"../data/test1.params\"\n\nStack trace returned 10 entries:\n[bt] (0) /home/wuying/miniconda3/envs/gluon/lib/python3.6/site-packages/mxnet/libmxnet.so(+0x193fe2) [0x7fafde657fe2]\n[bt] (1) /home/wuying/miniconda3/envs/gluon/lib/python3.6/site-packages/mxnet/libmxnet.so(+0x28abf40) [0x7fafe0d6ff40]\n[bt] (2) /home/wuying/miniconda3/envs/gluon/lib/python3.6/site-packages/mxnet/libmxnet.so(+0x28a27ca) [0x7fafe0d667ca]\n[bt] (3) /home/wuying/miniconda3/envs/gluon/lib/python3.6/site-packages/mxnet/libmxnet.so(MXNDArraySave+0x5a3) [0x7fafe07dedb3]\n[bt] (4) /home/wuying/miniconda3/envs/gluon/lib/python3.6/lib-dynload/../../libffi.so.6(ffi_call_unix64+0x4c) [0x7fb017327ec0]\n[bt] (5) /home/wuying/miniconda3/envs/gluon/lib/python3.6/lib-dynload/../../libffi.so.6(ffi_call+0x22d) [0x7fb01732787d]\n[bt] (6) /home/wuying/miniconda3/envs/gluon/lib/python3.6/lib-dynload/_ctypes.cpython-36m-x86_64-linux-gnu.so(_ctypes_callproc+0x2ce) [0x7fb01753cdee]\n[bt] (7) /home/wuying/miniconda3/envs/gluon/lib/python3.6/lib-dynload/_ctypes.cpython-36m-x86_64-linux-gnu.so(+0x12825) [0x7fb01753d825]\n[bt] (8) /home/wuying/miniconda3/envs/gluon/bin/python(_PyObject_FastCallDict+0x8b) [0x556065e5bd0b]\n[bt] (9) /home/wuying/miniconda3/envs/gluon/bin/python(+0x1a54ee) [0x556065ef54ee]\n\n"
     ]
    }
   ],
   "source": [
    "#UUSING NDARRY TO READ AND LOAD DATA\n",
    "from mxnet import ndarray as nd\n",
    "x=nd.ones(3)\n",
    "y=nd.zeros(4)\n",
    "filename = \"../data/test1.params\" ##?这样写是对的吗？\n",
    "nd.save(filename,[x,y])"
   ]
  },
  {
   "cell_type": "code",
   "execution_count": 49,
   "metadata": {},
   "outputs": [
    {
     "ename": "NameError",
     "evalue": "name 'filesname' is not defined",
     "output_type": "error",
     "traceback": [
      "\u001b[0;31m---------------------------------------------------------------------------\u001b[0m",
      "\u001b[0;31mNameError\u001b[0m                                 Traceback (most recent call last)",
      "\u001b[0;32m<ipython-input-49-dd49592521ad>\u001b[0m in \u001b[0;36m<module>\u001b[0;34m()\u001b[0m\n\u001b[1;32m      1\u001b[0m \u001b[0;31m#READ DATA\u001b[0m\u001b[0;34m\u001b[0m\u001b[0;34m\u001b[0m\u001b[0m\n\u001b[0;32m----> 2\u001b[0;31m \u001b[0ma\u001b[0m\u001b[0;34m,\u001b[0m\u001b[0mb\u001b[0m\u001b[0;34m=\u001b[0m\u001b[0mnd\u001b[0m\u001b[0;34m.\u001b[0m\u001b[0mload\u001b[0m\u001b[0;34m(\u001b[0m\u001b[0mfilesname\u001b[0m\u001b[0;34m)\u001b[0m\u001b[0;34m\u001b[0m\u001b[0m\n\u001b[0m\u001b[1;32m      3\u001b[0m \u001b[0mprint\u001b[0m\u001b[0;34m(\u001b[0m\u001b[0ma\u001b[0m\u001b[0;34m,\u001b[0m\u001b[0mb\u001b[0m\u001b[0;34m)\u001b[0m\u001b[0;34m\u001b[0m\u001b[0m\n",
      "\u001b[0;31mNameError\u001b[0m: name 'filesname' is not defined"
     ]
    }
   ],
   "source": [
    "#READ DATA\n",
    "a,b=nd.load(filesname)\n",
    "print(a,b)"
   ]
  },
  {
   "cell_type": "code",
   "execution_count": null,
   "metadata": {},
   "outputs": [],
   "source": [
    "#conclusion:\n",
    "#filename=\"00000\"\n",
    "#nd.save(filename,0000) 其中，可以包括list，【】，dictionary\n",
    "#用load去加载"
   ]
  },
  {
   "cell_type": "code",
   "execution_count": 60,
   "metadata": {
    "scrolled": true
   },
   "outputs": [
    {
     "name": "stdout",
     "output_type": "stream",
     "text": [
      "\n",
      "[[-0.01263877 -0.01663928]\n",
      " [-0.01143097 -0.01415265]]\n",
      "<NDArray 2x2 @cpu(0)>\n"
     ]
    }
   ],
   "source": [
    "#using gluon to read data \n",
    "#跟NDArray类似，Gluon的模型（就是nn.Block）提供便利的save_params和load_params函数来读写数据。\n",
    "\n",
    "#mpl\n",
    "from mxnet.gluon import nn\n",
    "def get_net():\n",
    "    net=nn.Sequential()\n",
    "    with net.name_scope():\n",
    "        net.add(nn.Dense(10,activation=\"relu\"))\n",
    "        net.add(nn.Dense(2))\n",
    "    return net\n",
    "                \n",
    "net = get_net()\n",
    "net.initialize()\n",
    "x = nd.random.uniform(shape=(2,10))\n",
    "print(net(x))\n",
    "                "
   ]
  },
  {
   "cell_type": "code",
   "execution_count": 61,
   "metadata": {},
   "outputs": [
    {
     "ename": "MXNetError",
     "evalue": "[19:37:58] src/io/local_filesys.cc:166: Check failed: allow_null  LocalFileSystem: fail to open \"../data/mlp.params\"\n\nStack trace returned 10 entries:\n[bt] (0) /home/wuying/miniconda3/envs/gluon/lib/python3.6/site-packages/mxnet/libmxnet.so(+0x193fe2) [0x7fafde657fe2]\n[bt] (1) /home/wuying/miniconda3/envs/gluon/lib/python3.6/site-packages/mxnet/libmxnet.so(+0x28abf40) [0x7fafe0d6ff40]\n[bt] (2) /home/wuying/miniconda3/envs/gluon/lib/python3.6/site-packages/mxnet/libmxnet.so(+0x28a27ca) [0x7fafe0d667ca]\n[bt] (3) /home/wuying/miniconda3/envs/gluon/lib/python3.6/site-packages/mxnet/libmxnet.so(MXNDArraySave+0x5a3) [0x7fafe07dedb3]\n[bt] (4) /home/wuying/miniconda3/envs/gluon/lib/python3.6/lib-dynload/../../libffi.so.6(ffi_call_unix64+0x4c) [0x7fb017327ec0]\n[bt] (5) /home/wuying/miniconda3/envs/gluon/lib/python3.6/lib-dynload/../../libffi.so.6(ffi_call+0x22d) [0x7fb01732787d]\n[bt] (6) /home/wuying/miniconda3/envs/gluon/lib/python3.6/lib-dynload/_ctypes.cpython-36m-x86_64-linux-gnu.so(_ctypes_callproc+0x2ce) [0x7fb01753cdee]\n[bt] (7) /home/wuying/miniconda3/envs/gluon/lib/python3.6/lib-dynload/_ctypes.cpython-36m-x86_64-linux-gnu.so(+0x12825) [0x7fb01753d825]\n[bt] (8) /home/wuying/miniconda3/envs/gluon/bin/python(_PyObject_FastCallDict+0x8b) [0x556065e5bd0b]\n[bt] (9) /home/wuying/miniconda3/envs/gluon/bin/python(+0x1a54ee) [0x556065ef54ee]\n\n",
     "output_type": "error",
     "traceback": [
      "\u001b[0;31m---------------------------------------------------------------------------\u001b[0m",
      "\u001b[0;31mMXNetError\u001b[0m                                Traceback (most recent call last)",
      "\u001b[0;32m<ipython-input-61-58bb6c10c11c>\u001b[0m in \u001b[0;36m<module>\u001b[0;34m()\u001b[0m\n\u001b[1;32m      1\u001b[0m \u001b[0mfilename\u001b[0m \u001b[0;34m=\u001b[0m \u001b[0;34m\"../data/mlp.params\"\u001b[0m\u001b[0;34m\u001b[0m\u001b[0m\n\u001b[0;32m----> 2\u001b[0;31m \u001b[0mnet\u001b[0m\u001b[0;34m.\u001b[0m\u001b[0msave_params\u001b[0m\u001b[0;34m(\u001b[0m\u001b[0mfilename\u001b[0m\u001b[0;34m)\u001b[0m\u001b[0;34m\u001b[0m\u001b[0m\n\u001b[0m",
      "\u001b[0;32m~/miniconda3/envs/gluon/lib/python3.6/site-packages/mxnet/gluon/block.py\u001b[0m in \u001b[0;36msave_params\u001b[0;34m(self, filename)\u001b[0m\n\u001b[1;32m    243\u001b[0m             \u001b[0mPath\u001b[0m \u001b[0mto\u001b[0m \u001b[0mfile\u001b[0m\u001b[0;34m.\u001b[0m\u001b[0;34m\u001b[0m\u001b[0m\n\u001b[1;32m    244\u001b[0m         \"\"\"\n\u001b[0;32m--> 245\u001b[0;31m         \u001b[0mself\u001b[0m\u001b[0;34m.\u001b[0m\u001b[0mcollect_params\u001b[0m\u001b[0;34m(\u001b[0m\u001b[0;34m)\u001b[0m\u001b[0;34m.\u001b[0m\u001b[0msave\u001b[0m\u001b[0;34m(\u001b[0m\u001b[0mfilename\u001b[0m\u001b[0;34m,\u001b[0m \u001b[0mstrip_prefix\u001b[0m\u001b[0;34m=\u001b[0m\u001b[0mself\u001b[0m\u001b[0;34m.\u001b[0m\u001b[0mprefix\u001b[0m\u001b[0;34m)\u001b[0m\u001b[0;34m\u001b[0m\u001b[0m\n\u001b[0m\u001b[1;32m    246\u001b[0m \u001b[0;34m\u001b[0m\u001b[0m\n\u001b[1;32m    247\u001b[0m     def load_params(self, filename, ctx, allow_missing=False,\n",
      "\u001b[0;32m~/miniconda3/envs/gluon/lib/python3.6/site-packages/mxnet/gluon/parameter.py\u001b[0m in \u001b[0;36msave\u001b[0;34m(self, filename, strip_prefix)\u001b[0m\n\u001b[1;32m    637\u001b[0m                         strip_prefix, param.name, strip_prefix))\n\u001b[1;32m    638\u001b[0m             \u001b[0marg_dict\u001b[0m\u001b[0;34m[\u001b[0m\u001b[0mparam\u001b[0m\u001b[0;34m.\u001b[0m\u001b[0mname\u001b[0m\u001b[0;34m[\u001b[0m\u001b[0mlen\u001b[0m\u001b[0;34m(\u001b[0m\u001b[0mstrip_prefix\u001b[0m\u001b[0;34m)\u001b[0m\u001b[0;34m:\u001b[0m\u001b[0;34m]\u001b[0m\u001b[0;34m]\u001b[0m \u001b[0;34m=\u001b[0m \u001b[0mweight\u001b[0m\u001b[0;34m\u001b[0m\u001b[0m\n\u001b[0;32m--> 639\u001b[0;31m         \u001b[0mndarray\u001b[0m\u001b[0;34m.\u001b[0m\u001b[0msave\u001b[0m\u001b[0;34m(\u001b[0m\u001b[0mfilename\u001b[0m\u001b[0;34m,\u001b[0m \u001b[0marg_dict\u001b[0m\u001b[0;34m)\u001b[0m\u001b[0;34m\u001b[0m\u001b[0m\n\u001b[0m\u001b[1;32m    640\u001b[0m \u001b[0;34m\u001b[0m\u001b[0m\n\u001b[1;32m    641\u001b[0m     def load(self, filename, ctx, allow_missing=False,\n",
      "\u001b[0;32m~/miniconda3/envs/gluon/lib/python3.6/site-packages/mxnet/ndarray/utils.py\u001b[0m in \u001b[0;36msave\u001b[0;34m(fname, data)\u001b[0m\n\u001b[1;32m    234\u001b[0m                                   \u001b[0mmx_uint\u001b[0m\u001b[0;34m(\u001b[0m\u001b[0mlen\u001b[0m\u001b[0;34m(\u001b[0m\u001b[0mhandles\u001b[0m\u001b[0;34m)\u001b[0m\u001b[0;34m)\u001b[0m\u001b[0;34m,\u001b[0m\u001b[0;34m\u001b[0m\u001b[0m\n\u001b[1;32m    235\u001b[0m                                   \u001b[0mhandles\u001b[0m\u001b[0;34m,\u001b[0m\u001b[0;34m\u001b[0m\u001b[0m\n\u001b[0;32m--> 236\u001b[0;31m                                   keys))\n\u001b[0m",
      "\u001b[0;32m~/miniconda3/envs/gluon/lib/python3.6/site-packages/mxnet/base.py\u001b[0m in \u001b[0;36mcheck_call\u001b[0;34m(ret)\u001b[0m\n\u001b[1;32m    144\u001b[0m     \"\"\"\n\u001b[1;32m    145\u001b[0m     \u001b[0;32mif\u001b[0m \u001b[0mret\u001b[0m \u001b[0;34m!=\u001b[0m \u001b[0;36m0\u001b[0m\u001b[0;34m:\u001b[0m\u001b[0;34m\u001b[0m\u001b[0m\n\u001b[0;32m--> 146\u001b[0;31m         \u001b[0;32mraise\u001b[0m \u001b[0mMXNetError\u001b[0m\u001b[0;34m(\u001b[0m\u001b[0mpy_str\u001b[0m\u001b[0;34m(\u001b[0m\u001b[0m_LIB\u001b[0m\u001b[0;34m.\u001b[0m\u001b[0mMXGetLastError\u001b[0m\u001b[0;34m(\u001b[0m\u001b[0;34m)\u001b[0m\u001b[0;34m)\u001b[0m\u001b[0;34m)\u001b[0m\u001b[0;34m\u001b[0m\u001b[0m\n\u001b[0m\u001b[1;32m    147\u001b[0m \u001b[0;34m\u001b[0m\u001b[0m\n\u001b[1;32m    148\u001b[0m \u001b[0;34m\u001b[0m\u001b[0m\n",
      "\u001b[0;31mMXNetError\u001b[0m: [19:37:58] src/io/local_filesys.cc:166: Check failed: allow_null  LocalFileSystem: fail to open \"../data/mlp.params\"\n\nStack trace returned 10 entries:\n[bt] (0) /home/wuying/miniconda3/envs/gluon/lib/python3.6/site-packages/mxnet/libmxnet.so(+0x193fe2) [0x7fafde657fe2]\n[bt] (1) /home/wuying/miniconda3/envs/gluon/lib/python3.6/site-packages/mxnet/libmxnet.so(+0x28abf40) [0x7fafe0d6ff40]\n[bt] (2) /home/wuying/miniconda3/envs/gluon/lib/python3.6/site-packages/mxnet/libmxnet.so(+0x28a27ca) [0x7fafe0d667ca]\n[bt] (3) /home/wuying/miniconda3/envs/gluon/lib/python3.6/site-packages/mxnet/libmxnet.so(MXNDArraySave+0x5a3) [0x7fafe07dedb3]\n[bt] (4) /home/wuying/miniconda3/envs/gluon/lib/python3.6/lib-dynload/../../libffi.so.6(ffi_call_unix64+0x4c) [0x7fb017327ec0]\n[bt] (5) /home/wuying/miniconda3/envs/gluon/lib/python3.6/lib-dynload/../../libffi.so.6(ffi_call+0x22d) [0x7fb01732787d]\n[bt] (6) /home/wuying/miniconda3/envs/gluon/lib/python3.6/lib-dynload/_ctypes.cpython-36m-x86_64-linux-gnu.so(_ctypes_callproc+0x2ce) [0x7fb01753cdee]\n[bt] (7) /home/wuying/miniconda3/envs/gluon/lib/python3.6/lib-dynload/_ctypes.cpython-36m-x86_64-linux-gnu.so(+0x12825) [0x7fb01753d825]\n[bt] (8) /home/wuying/miniconda3/envs/gluon/bin/python(_PyObject_FastCallDict+0x8b) [0x556065e5bd0b]\n[bt] (9) /home/wuying/miniconda3/envs/gluon/bin/python(+0x1a54ee) [0x556065ef54ee]\n\n"
     ]
    }
   ],
   "source": [
    "filename = \"../data/mlp.params\"\n",
    "net.save_params(filename)"
   ]
  },
  {
   "cell_type": "code",
   "execution_count": null,
   "metadata": {},
   "outputs": [],
   "source": [
    "import mxnet as mx\n",
    "net2 = get_net()\n",
    "net2.load_params(filename, mx.cpu())  # FIXME, gluon will support default ctx later\n",
    "print(net2(x))"
   ]
  },
  {
   "cell_type": "code",
   "execution_count": null,
   "metadata": {},
   "outputs": [],
   "source": []
  }
 ],
 "metadata": {
  "kernelspec": {
   "display_name": "Python 3",
   "language": "python",
   "name": "python3"
  },
  "language_info": {
   "codemirror_mode": {
    "name": "ipython",
    "version": 3
   },
   "file_extension": ".py",
   "mimetype": "text/x-python",
   "name": "python",
   "nbconvert_exporter": "python",
   "pygments_lexer": "ipython3",
   "version": "3.6.4"
  }
 },
 "nbformat": 4,
 "nbformat_minor": 2
}
