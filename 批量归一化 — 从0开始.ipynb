{
 "cells": [
  {
   "cell_type": "code",
   "execution_count": 1,
   "metadata": {},
   "outputs": [],
   "source": [
    "#batchnorm主要是让收敛变快，但对acc影响不大\n",
    "from mxnet import nd\n",
    "def pure_batch_norm(X, gamma, beta, eps=1e-5):\n",
    "    assert len(X.shape) in (2,4)#只限制输入x的形状只有2和4维度？为什么呢？ 当维度为2的时候，维度是(batch, num_features)，\n",
    "    #当维度为4的时候，（batch, channel, height, weight)，不同的channel数据的分布可能不同，所以不对不同通道的数据做BN，\n",
    "    #同时对于图像数据，都是像素点，会假设相同通道的像素点取自相同的分布，所以对于四维的数据，同一个batch 里面，每个通道单独做BN。\n",
    "    if len(X.shape)==2:\n",
    "        mean=X.mean(axis=0)#每个输入维度在样本上的平均和方差\n",
    "        variance=((X-mean)**2).mean(axis=0)\n",
    "    else:\n",
    "        # 对每个通道算均值和方差，需要保持4D形状使得可以正确地广播\n",
    "        mean=X.mean(axis=(0,2,3),keepdims=True)\n",
    "        variance=((X-mean)**2).mean(axis=(0,2,3),keepdims=True)\n",
    "    #均一化\n",
    "    X_hat=(X-mean)/nd.sqrt(variance+eps)\n",
    "    # 拉升和偏移\n",
    "    return gamma.reshape(mean.shape) * X_hat + beta.reshape(mean.shape)"
   ]
  },
  {
   "cell_type": "code",
   "execution_count": 2,
   "metadata": {},
   "outputs": [
    {
     "data": {
      "text/plain": [
       "\n",
       "[[ 0.  1.]\n",
       " [ 2.  3.]\n",
       " [ 4.  5.]]\n",
       "<NDArray 3x2 @cpu(0)>"
      ]
     },
     "execution_count": 2,
     "metadata": {},
     "output_type": "execute_result"
    }
   ],
   "source": [
    "A = nd.arange(6).reshape((3,2))\n",
    "A"
   ]
  },
  {
   "cell_type": "code",
   "execution_count": 3,
   "metadata": {},
   "outputs": [
    {
     "data": {
      "text/plain": [
       "\n",
       "[[-1.22474265 -1.22474265]\n",
       " [ 0.          0.        ]\n",
       " [ 1.22474265  1.22474265]]\n",
       "<NDArray 3x2 @cpu(0)>"
      ]
     },
     "execution_count": 3,
     "metadata": {},
     "output_type": "execute_result"
    }
   ],
   "source": [
    "pure_batch_norm(A, gamma=nd.array([1,1]), beta=nd.array([0,0]))"
   ]
  },
  {
   "cell_type": "code",
   "execution_count": 60,
   "metadata": {},
   "outputs": [],
   "source": [
    "#在测试时，我们需要把原先训练时用到的批量均值和方差替换成整个训练数据的均值和方差。\n",
    "#但是当训练数据极大时，这个计算开销很大。因此，我们用移动平均的方法来近似计算\n",
    "#对近期数据给予较大的权数，对较远的数据给予较小的权数，对以前的一个参数进行赋值\n",
    "#测试事的批量归一法\n",
    "def batch_norm( X, gamma, beta, is_training, moving_mean, moving_variance,\n",
    "               eps = 1e-5, moving_momentum = 0.9):\n",
    "    assert len(X.shape) in (2,4)\n",
    "    if len(X.shape)==2:\n",
    "        mean=X.mean(axis=0)\n",
    "        variance=((X-mean)**2).mean(axis=o)\n",
    "    else:\n",
    "        mean=X.mean(axis=(0,2,3),keepdims=True)\n",
    "        variance=((X-mean)**2).mean(axis=(0,2,3),keepdims=True)\n",
    "        moving_mean=moving_mean.reshape(mean.shape)\n",
    "        moving_variance=moving_variance.reshape(variance.shape)\n",
    "    # 均一化\n",
    "    if is_training:\n",
    "        X_hat = (X - mean) / nd.sqrt(variance + eps)\n",
    "        #!!! 更新全局的均值和方差\n",
    "        moving_mean[:] = moving_momentum * moving_mean + (\n",
    "            1.0 - moving_momentum) * mean\n",
    "        moving_variance[:] = moving_momentum * moving_variance + (\n",
    "            1.0 - moving_momentum) * variance\n",
    "    else:\n",
    "        #!!! 测试阶段使用全局的均值和方差\n",
    "        X_hat = (X - moving_mean) / nd.sqrt(moving_variance + eps)\n",
    "\n",
    "    # 拉升和偏移\n",
    "    return gamma.reshape(mean.shape) * X_hat + beta.reshape(mean.shape)"
   ]
  },
  {
   "cell_type": "code",
   "execution_count": 61,
   "metadata": {},
   "outputs": [],
   "source": [
    "import sys\n",
    "sys.path.append('..')\n",
    "import utils\n",
    "ctx = utils.try_gpu()\n",
    "from mxnet import ndarray as nd\n",
    "#define parameters\n",
    "weight_scale=0.01\n",
    "\n",
    "#first convolutional layer 输出通道 = 20, 卷积核 = (5,5)\n",
    "c1=20\n",
    "w1=nd.random.normal(shape=(c1,1,5,5),scale=weight_scale,ctx=ctx)\n",
    "b1=nd.zeros(c1,ctx=ctx)\n",
    "\n",
    "#first bn layer\n",
    "gamma1=nd.random.normal(shape=c1,scale=weight_scale,ctx=ctx)\n",
    "beta1 = nd.random.normal(shape=c1, scale=weight_scale,ctx=ctx)\n",
    "moving_mean1 = nd.zeros(c1,ctx=ctx)\n",
    "moving_variance1 = nd.zeros(c1,ctx=ctx)\n",
    "\n",
    "#second convolutional layer # 输出通道 = 50, 卷积核 = (3,3)\n",
    "c2=50\n",
    "w2=nd.random.normal(shape=(c2,c1,3,3),scale=weight_scale,ctx=ctx)\n",
    "b2=nd.zeros(c2,ctx=ctx)\n",
    "\n",
    "#second bn layer\n",
    "gamma2=nd.random.normal(shape=c2,scale=weight_scale,ctx=ctx)\n",
    "beta2 = nd.random.normal(shape=c2, scale=weight_scale,ctx=ctx)\n",
    "moving_mean2 = nd.zeros(c2,ctx=ctx)\n",
    "moving_variance2 = nd.zeros(c2,ctx=ctx)\n",
    "\n",
    "# 输出维度 = 128\n",
    "o3 = 128\n",
    "w3 = nd.random.normal(shape=(1250, o3), scale=weight_scale,ctx=ctx)\n",
    "b3 = nd.zeros(o3,ctx=ctx)\n",
    "\n",
    "# 输出维度 = 10\n",
    "w4 = nd.random_normal(shape=(W3.shape[1], 10), scale=weight_scale,ctx=ctx)\n",
    "b4 = nd.zeros(W4.shape[1],ctx=ctx)\n",
    "\n",
    "# 注意这里moving_*是不需要更新的\n",
    "params = [w1, b1, gamma1, beta1,\n",
    "          w2, b2, gamma2, beta2,\n",
    "          w3, b3, w4, b4]\n",
    "\n",
    "for param in params:\n",
    "    param.attach_grad()"
   ]
  },
  {
   "cell_type": "code",
   "execution_count": 62,
   "metadata": {},
   "outputs": [],
   "source": [
    "\n",
    "\n",
    "#define function\n",
    "def net(X,is_training=False,verbose=False):\n",
    "    X = X.as_in_context(w1.context)\n",
    "    \n",
    "    #first convolutional layer\n",
    "    h1_conv=nd.Convolution(data=X,weight=w1,bias=b1,kernel=w1.shape[2:],num_filter=c1)\n",
    "    h1_bn=batch_norm(h1_conv,gamma1,beta1,is_training,moving_mean1, moving_variance1)\n",
    "    h1_activation = nd.relu(h1_bn)\n",
    "    h1 = nd.Pooling(\n",
    "        data=h1_activation, pool_type=\"max\", kernel=(2,2), stride=(2,2))\n",
    "   \n",
    "     #first second layer\n",
    "    h2_conv = nd.Convolution(\n",
    "        data=h1, weight=w2, bias=b2, kernel=w2.shape[2:], num_filter=c2)\n",
    "    h2_bn = batch_norm(h2_conv, gamma2, beta2, is_training,\n",
    "                       moving_mean2, moving_variance2)\n",
    "    h2_activation = nd.relu(h2_bn)\n",
    "    h2 = nd.Pooling(data=h2_activation, pool_type=\"max\", kernel=(2,2), stride=(2,2))\n",
    "    h2 = nd.flatten(h2)\n",
    "    \n",
    "    #first connection layer\n",
    "    h3_linear = nd.dot(h2, W3) + b3\n",
    "    h3=nd.relu(h3_linear)\n",
    "    \n",
    "    #second connection layer\n",
    "    h4_linear=nd.dot(h3,w4)+b4\n",
    "    \n",
    "    if verbose:\n",
    "        print('1st conv block:', h1.shape)\n",
    "        print('2nd conv block:', h2.shape)\n",
    "        print('1st dense:', h3.shape)\n",
    "        print('2nd dense:', h4_linear.shape)\n",
    "        print('output:', h4_linear)\n",
    "    return h4_linear"
   ]
  },
  {
   "cell_type": "code",
   "execution_count": null,
   "metadata": {},
   "outputs": [],
   "source": [
    "from mxnet import autograd\n",
    "from mxnet import gluon\n",
    "\n",
    "batch_size = 256\n",
    "train_data, test_data = utils.load_data_fashion_mnist(batch_size)\n",
    "\n",
    "softmax_cross_entropy = gluon.loss.SoftmaxCrossEntropyLoss()\n",
    "\n",
    "learning_rate = 0.2\n",
    "\n",
    "for epoch in range(5):\n",
    "    train_loss = 0.\n",
    "    train_acc = 0.\n",
    "    for data, label in train_data:\n",
    "        label = label.as_in_context(ctx)\n",
    "        with autograd.record():\n",
    "            output = net(data, is_training=True)\n",
    "            loss = softmax_cross_entropy(output, label)\n",
    "        loss.backward()\n",
    "        utils.SGD(params, learning_rate/batch_size)\n",
    "\n",
    "        train_loss += nd.mean(loss).asscalar()\n",
    "        train_acc += utils.accuracy(output, label)\n",
    "\n",
    "    test_acc = utils.evaluate_accuracy(test_data, net)\n",
    "    print(\"Epoch %d. Loss: %f, Train acc %f, Test acc %f\" % (\n",
    "            epoch, train_loss/len(train_data), train_acc/len(train_data), test_acc))"
   ]
  },
  {
   "cell_type": "code",
   "execution_count": null,
   "metadata": {},
   "outputs": [],
   "source": []
  }
 ],
 "metadata": {
  "kernelspec": {
   "display_name": "Python 3",
   "language": "python",
   "name": "python3"
  },
  "language_info": {
   "codemirror_mode": {
    "name": "ipython",
    "version": 3
   },
   "file_extension": ".py",
   "mimetype": "text/x-python",
   "name": "python",
   "nbconvert_exporter": "python",
   "pygments_lexer": "ipython3",
   "version": "3.6.3"
  }
 },
 "nbformat": 4,
 "nbformat_minor": 2
}
